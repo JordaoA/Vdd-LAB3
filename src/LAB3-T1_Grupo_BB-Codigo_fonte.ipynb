{
  "nbformat": 4,
  "nbformat_minor": 0,
  "metadata": {
    "colab": {
      "name": "LAB3-T1_Grupo_BB-",
      "provenance": [],
      "collapsed_sections": []
    },
    "kernelspec": {
      "name": "python3",
      "display_name": "Python 3"
    },
    "language_info": {
      "name": "python"
    }
  },
  "cells": [
    {
      "cell_type": "markdown",
      "source": [
        "\n",
        "# [LAB3] Entrega do Lab3 - T1_Grupo_BB\n",
        "## ENUNCIADO\n",
        "\n",
        "Usando o mesmo projeto de visualização do Lab2, e até mesmo partindo dos mesmos artefatos de software desenvolvidos para o Lab2, o grupo deve experimentar outros tipos de visualização que funcionem no contexto do projeto. Após experimentar, o grupo deverá eleger a melhor visualização produzida e fazer o envio apenas desta escolhida como a melhor. A única exigência é que o tipo de visualização seja diferente do tipo explorado e entregue no Lab2.\n",
        "\n",
        "\n"
      ],
      "metadata": {
        "id": "Qp6FjaBi9qry"
      }
    },
    {
      "cell_type": "markdown",
      "source": [
        "## Preparando Setup"
      ],
      "metadata": {
        "id": "Rr6jNso87FRs"
      }
    },
    {
      "cell_type": "code",
      "source": [
        "!pip install suntime"
      ],
      "metadata": {
        "colab": {
          "base_uri": "https://localhost:8080/"
        },
        "id": "5mFCFh7QAG_3",
        "outputId": "31248cdc-6c23-4fcc-93ea-e01376800bef"
      },
      "execution_count": 219,
      "outputs": [
        {
          "output_type": "stream",
          "name": "stdout",
          "text": [
            "Looking in indexes: https://pypi.org/simple, https://us-python.pkg.dev/colab-wheels/public/simple/\n",
            "Requirement already satisfied: suntime in /usr/local/lib/python3.7/dist-packages (1.2.5)\n",
            "Requirement already satisfied: python-dateutil in /usr/local/lib/python3.7/dist-packages (from suntime) (2.8.2)\n",
            "Requirement already satisfied: six>=1.5 in /usr/local/lib/python3.7/dist-packages (from python-dateutil->suntime) (1.15.0)\n"
          ]
        }
      ]
    },
    {
      "cell_type": "code",
      "source": [
        "from google.colab import drive\n",
        "drive.mount('/content/drive')"
      ],
      "metadata": {
        "colab": {
          "base_uri": "https://localhost:8080/"
        },
        "id": "eUllw7G9vylg",
        "outputId": "5bd4944b-4b34-4cee-d078-347a0b4d6939"
      },
      "execution_count": 220,
      "outputs": [
        {
          "output_type": "stream",
          "name": "stdout",
          "text": [
            "Drive already mounted at /content/drive; to attempt to forcibly remount, call drive.mount(\"/content/drive\", force_remount=True).\n"
          ]
        }
      ]
    },
    {
      "cell_type": "code",
      "execution_count": 221,
      "metadata": {
        "id": "PAEeZdeSoC_-"
      },
      "outputs": [],
      "source": [
        "import math\n",
        "import datetime \n",
        "import numpy as np\n",
        "import pandas as pd \n",
        "from suntime import Sun \n",
        "import matplotlib.pyplot as plt\n",
        "from geopy.geocoders import Nominatim "
      ]
    },
    {
      "cell_type": "markdown",
      "source": [
        "## Lendo arquivo e dando primeira olhada nos dados."
      ],
      "metadata": {
        "id": "Ohd3_75w7Kux"
      }
    },
    {
      "cell_type": "code",
      "source": [
        "plane_data = pd.read_csv('/content/drive/MyDrive/vdd/Airplane_crashes_dataset_since_1908 - Airplane_crashes_dataset_since_1908.csv')\n",
        "plane_data.head()"
      ],
      "metadata": {
        "colab": {
          "base_uri": "https://localhost:8080/",
          "height": 374
        },
        "id": "zmqMLrP4pNgj",
        "outputId": "d583f238-be43-4b5f-bafc-e99a39939907"
      },
      "execution_count": 222,
      "outputs": [
        {
          "output_type": "execute_result",
          "data": {
            "text/plain": [
              "                 date  time                 location              operator  \\\n",
              "0                 NaN   NaN                      NaN                   NaN   \n",
              "1  September 17, 1908  1718      Fort Myer, Virginia  Military - U.S. Army   \n",
              "2                 NaN   NaN                      NaN                   NaN   \n",
              "3  September 07, 1909     ?  Juvisy-sur-Orge, France                     ?   \n",
              "4                 NaN   NaN                      NaN                   NaN   \n",
              "\n",
              "  flight_no          route           ac_type registration cn_ln all_aboard  \\\n",
              "0       NaN            NaN               NaN          NaN   NaN        NaN   \n",
              "1         ?  Demonstration  Wright Flyer III            ?     1          2   \n",
              "2       NaN            NaN               NaN          NaN   NaN        NaN   \n",
              "3         ?       Air show    Wright Byplane          SC1     ?          1   \n",
              "4       NaN            NaN               NaN          NaN   NaN        NaN   \n",
              "\n",
              "  passengers_aboard crew_aboard all_fatalities passenger_fatalities  \\\n",
              "0               NaN         NaN            NaN                  NaN   \n",
              "1                 1           1              1                    1   \n",
              "2               NaN         NaN            NaN                  NaN   \n",
              "3                 0           1              1                    0   \n",
              "4               NaN         NaN            NaN                  NaN   \n",
              "\n",
              "  crew_fatalities ground                                            summary  \n",
              "0             NaN    NaN                                                NaN  \n",
              "1               0      0  During a demonstration flight, a U.S. Army fly...  \n",
              "2             NaN    NaN                                                NaN  \n",
              "3               0      0  Eugene Lefebvre was the first pilot to ever be...  \n",
              "4             NaN    NaN                                                NaN  "
            ],
            "text/html": [
              "\n",
              "  <div id=\"df-26cefac3-c2c6-4c74-988a-a822b9554a73\">\n",
              "    <div class=\"colab-df-container\">\n",
              "      <div>\n",
              "<style scoped>\n",
              "    .dataframe tbody tr th:only-of-type {\n",
              "        vertical-align: middle;\n",
              "    }\n",
              "\n",
              "    .dataframe tbody tr th {\n",
              "        vertical-align: top;\n",
              "    }\n",
              "\n",
              "    .dataframe thead th {\n",
              "        text-align: right;\n",
              "    }\n",
              "</style>\n",
              "<table border=\"1\" class=\"dataframe\">\n",
              "  <thead>\n",
              "    <tr style=\"text-align: right;\">\n",
              "      <th></th>\n",
              "      <th>date</th>\n",
              "      <th>time</th>\n",
              "      <th>location</th>\n",
              "      <th>operator</th>\n",
              "      <th>flight_no</th>\n",
              "      <th>route</th>\n",
              "      <th>ac_type</th>\n",
              "      <th>registration</th>\n",
              "      <th>cn_ln</th>\n",
              "      <th>all_aboard</th>\n",
              "      <th>passengers_aboard</th>\n",
              "      <th>crew_aboard</th>\n",
              "      <th>all_fatalities</th>\n",
              "      <th>passenger_fatalities</th>\n",
              "      <th>crew_fatalities</th>\n",
              "      <th>ground</th>\n",
              "      <th>summary</th>\n",
              "    </tr>\n",
              "  </thead>\n",
              "  <tbody>\n",
              "    <tr>\n",
              "      <th>0</th>\n",
              "      <td>NaN</td>\n",
              "      <td>NaN</td>\n",
              "      <td>NaN</td>\n",
              "      <td>NaN</td>\n",
              "      <td>NaN</td>\n",
              "      <td>NaN</td>\n",
              "      <td>NaN</td>\n",
              "      <td>NaN</td>\n",
              "      <td>NaN</td>\n",
              "      <td>NaN</td>\n",
              "      <td>NaN</td>\n",
              "      <td>NaN</td>\n",
              "      <td>NaN</td>\n",
              "      <td>NaN</td>\n",
              "      <td>NaN</td>\n",
              "      <td>NaN</td>\n",
              "      <td>NaN</td>\n",
              "    </tr>\n",
              "    <tr>\n",
              "      <th>1</th>\n",
              "      <td>September 17, 1908</td>\n",
              "      <td>1718</td>\n",
              "      <td>Fort Myer, Virginia</td>\n",
              "      <td>Military - U.S. Army</td>\n",
              "      <td>?</td>\n",
              "      <td>Demonstration</td>\n",
              "      <td>Wright Flyer III</td>\n",
              "      <td>?</td>\n",
              "      <td>1</td>\n",
              "      <td>2</td>\n",
              "      <td>1</td>\n",
              "      <td>1</td>\n",
              "      <td>1</td>\n",
              "      <td>1</td>\n",
              "      <td>0</td>\n",
              "      <td>0</td>\n",
              "      <td>During a demonstration flight, a U.S. Army fly...</td>\n",
              "    </tr>\n",
              "    <tr>\n",
              "      <th>2</th>\n",
              "      <td>NaN</td>\n",
              "      <td>NaN</td>\n",
              "      <td>NaN</td>\n",
              "      <td>NaN</td>\n",
              "      <td>NaN</td>\n",
              "      <td>NaN</td>\n",
              "      <td>NaN</td>\n",
              "      <td>NaN</td>\n",
              "      <td>NaN</td>\n",
              "      <td>NaN</td>\n",
              "      <td>NaN</td>\n",
              "      <td>NaN</td>\n",
              "      <td>NaN</td>\n",
              "      <td>NaN</td>\n",
              "      <td>NaN</td>\n",
              "      <td>NaN</td>\n",
              "      <td>NaN</td>\n",
              "    </tr>\n",
              "    <tr>\n",
              "      <th>3</th>\n",
              "      <td>September 07, 1909</td>\n",
              "      <td>?</td>\n",
              "      <td>Juvisy-sur-Orge, France</td>\n",
              "      <td>?</td>\n",
              "      <td>?</td>\n",
              "      <td>Air show</td>\n",
              "      <td>Wright Byplane</td>\n",
              "      <td>SC1</td>\n",
              "      <td>?</td>\n",
              "      <td>1</td>\n",
              "      <td>0</td>\n",
              "      <td>1</td>\n",
              "      <td>1</td>\n",
              "      <td>0</td>\n",
              "      <td>0</td>\n",
              "      <td>0</td>\n",
              "      <td>Eugene Lefebvre was the first pilot to ever be...</td>\n",
              "    </tr>\n",
              "    <tr>\n",
              "      <th>4</th>\n",
              "      <td>NaN</td>\n",
              "      <td>NaN</td>\n",
              "      <td>NaN</td>\n",
              "      <td>NaN</td>\n",
              "      <td>NaN</td>\n",
              "      <td>NaN</td>\n",
              "      <td>NaN</td>\n",
              "      <td>NaN</td>\n",
              "      <td>NaN</td>\n",
              "      <td>NaN</td>\n",
              "      <td>NaN</td>\n",
              "      <td>NaN</td>\n",
              "      <td>NaN</td>\n",
              "      <td>NaN</td>\n",
              "      <td>NaN</td>\n",
              "      <td>NaN</td>\n",
              "      <td>NaN</td>\n",
              "    </tr>\n",
              "  </tbody>\n",
              "</table>\n",
              "</div>\n",
              "      <button class=\"colab-df-convert\" onclick=\"convertToInteractive('df-26cefac3-c2c6-4c74-988a-a822b9554a73')\"\n",
              "              title=\"Convert this dataframe to an interactive table.\"\n",
              "              style=\"display:none;\">\n",
              "        \n",
              "  <svg xmlns=\"http://www.w3.org/2000/svg\" height=\"24px\"viewBox=\"0 0 24 24\"\n",
              "       width=\"24px\">\n",
              "    <path d=\"M0 0h24v24H0V0z\" fill=\"none\"/>\n",
              "    <path d=\"M18.56 5.44l.94 2.06.94-2.06 2.06-.94-2.06-.94-.94-2.06-.94 2.06-2.06.94zm-11 1L8.5 8.5l.94-2.06 2.06-.94-2.06-.94L8.5 2.5l-.94 2.06-2.06.94zm10 10l.94 2.06.94-2.06 2.06-.94-2.06-.94-.94-2.06-.94 2.06-2.06.94z\"/><path d=\"M17.41 7.96l-1.37-1.37c-.4-.4-.92-.59-1.43-.59-.52 0-1.04.2-1.43.59L10.3 9.45l-7.72 7.72c-.78.78-.78 2.05 0 2.83L4 21.41c.39.39.9.59 1.41.59.51 0 1.02-.2 1.41-.59l7.78-7.78 2.81-2.81c.8-.78.8-2.07 0-2.86zM5.41 20L4 18.59l7.72-7.72 1.47 1.35L5.41 20z\"/>\n",
              "  </svg>\n",
              "      </button>\n",
              "      \n",
              "  <style>\n",
              "    .colab-df-container {\n",
              "      display:flex;\n",
              "      flex-wrap:wrap;\n",
              "      gap: 12px;\n",
              "    }\n",
              "\n",
              "    .colab-df-convert {\n",
              "      background-color: #E8F0FE;\n",
              "      border: none;\n",
              "      border-radius: 50%;\n",
              "      cursor: pointer;\n",
              "      display: none;\n",
              "      fill: #1967D2;\n",
              "      height: 32px;\n",
              "      padding: 0 0 0 0;\n",
              "      width: 32px;\n",
              "    }\n",
              "\n",
              "    .colab-df-convert:hover {\n",
              "      background-color: #E2EBFA;\n",
              "      box-shadow: 0px 1px 2px rgba(60, 64, 67, 0.3), 0px 1px 3px 1px rgba(60, 64, 67, 0.15);\n",
              "      fill: #174EA6;\n",
              "    }\n",
              "\n",
              "    [theme=dark] .colab-df-convert {\n",
              "      background-color: #3B4455;\n",
              "      fill: #D2E3FC;\n",
              "    }\n",
              "\n",
              "    [theme=dark] .colab-df-convert:hover {\n",
              "      background-color: #434B5C;\n",
              "      box-shadow: 0px 1px 3px 1px rgba(0, 0, 0, 0.15);\n",
              "      filter: drop-shadow(0px 1px 2px rgba(0, 0, 0, 0.3));\n",
              "      fill: #FFFFFF;\n",
              "    }\n",
              "  </style>\n",
              "\n",
              "      <script>\n",
              "        const buttonEl =\n",
              "          document.querySelector('#df-26cefac3-c2c6-4c74-988a-a822b9554a73 button.colab-df-convert');\n",
              "        buttonEl.style.display =\n",
              "          google.colab.kernel.accessAllowed ? 'block' : 'none';\n",
              "\n",
              "        async function convertToInteractive(key) {\n",
              "          const element = document.querySelector('#df-26cefac3-c2c6-4c74-988a-a822b9554a73');\n",
              "          const dataTable =\n",
              "            await google.colab.kernel.invokeFunction('convertToInteractive',\n",
              "                                                     [key], {});\n",
              "          if (!dataTable) return;\n",
              "\n",
              "          const docLinkHtml = 'Like what you see? Visit the ' +\n",
              "            '<a target=\"_blank\" href=https://colab.research.google.com/notebooks/data_table.ipynb>data table notebook</a>'\n",
              "            + ' to learn more about interactive tables.';\n",
              "          element.innerHTML = '';\n",
              "          dataTable['output_type'] = 'display_data';\n",
              "          await google.colab.output.renderOutput(dataTable, element);\n",
              "          const docLink = document.createElement('div');\n",
              "          docLink.innerHTML = docLinkHtml;\n",
              "          element.appendChild(docLink);\n",
              "        }\n",
              "      </script>\n",
              "    </div>\n",
              "  </div>\n",
              "  "
            ]
          },
          "metadata": {},
          "execution_count": 222
        }
      ]
    },
    {
      "cell_type": "markdown",
      "source": [
        "## Criando funções necessárias para criação de colunas."
      ],
      "metadata": {
        "id": "QCZUDesA8RR8"
      }
    },
    {
      "cell_type": "code",
      "source": [
        "def format_all_data(val):\n",
        "  location = val.split(',')[-1]\n",
        "  if 'Brazil' in location:\n",
        "    return 1\n",
        "  else: return 0\n",
        "\n",
        "def create_city_name(val):\n",
        "  exceptions = {'Rio de Janerio': 'Rio de Janeiro', 'Sao Paolo':'Sao Paulo', \n",
        "                'Florianpolis': 'Florianopolis', 'Ribeirao':'Ribeirao Preto', \n",
        "                'Rio Bonito': 'Rio de Janeiro'}\n",
        "\n",
        "  cidades = ['Rio de Janeiro', 'Sao Paulo','Fernando de Noronha', 'Rio Doce','Jaquirana', 'Taquaracucu',\n",
        "          'Porte Alegre', 'Algrete','Londrina', 'Rancharia','Carolina', 'Salvador','Caparao Mountain', 'Anchieta Island',\n",
        "          'Curitiba', 'Campina Grande','Pelotas', 'Recife','Campinas', 'Vitoria','Paraibuna', 'Brasilia',\n",
        "          'Itapecerica da Serra', 'Pico da Caledonia','Cuiaba', 'Coari','Sena Madureira', 'Sao Luis',\n",
        "          'Guanabara', 'Florianopolis','Pacatuba', 'Vitória da Conquista','Mantiqueira', 'Vila dos Remidos',\n",
        "          'Guarulhos', 'Sao Jose do Xingu','Bauru', 'Altamira','Guaratingueta AB', 'Caetite','Cruzeiro do Sul', 'Tangara de Serra',\n",
        "          'Formoso do Aragala', 'Carajas','Suzano', 'Ribeirao Preto','Belelm', 'Cubatao','Rio Branco', 'Belem','Para', 'Macaé',\n",
        "          'Uberaba', 'Sao Felix do Araguaia','Manacapuru', 'Natal','Senador Jose Porfírio', 'Manaus','Atlantic Ocean']\n",
        "  \n",
        "  for cidade in exceptions.keys():\n",
        "    if cidade in val:\n",
        "      return exceptions[cidade]\n",
        "\n",
        "  for cidade in cidades:\n",
        "    if cidade in val:\n",
        "      return cidade\n",
        "\n",
        "def create_coordinates(val):\n",
        "\n",
        "  coordenadas = {'Rio de Janeiro': [-22.908, -43.18], 'Sao Paulo': [-23.547, -46.633],'Fernando de Noronha': [-3.823, -32.065], \n",
        "                 'Rio Doce': [-20.242, -42.907],'Jaquirana': [-28.885, -50.358], 'Taquaracucu': [-27.4, -53.467],\n",
        "                 'Porte Alegre': [-30.033, -51.23], 'Algrete':[-29.784, -55.791],'Londrina': [-23.31, -51.163], \n",
        "                 'Rancharia': [-22.229, -50.893],'Carolina': [-7.333, -47.469], 'Salvador': [-13, -38.517],\n",
        "                 'Caparao Mountain': [-20.521, -41.907], 'Anchieta Island': [-23.539, -45.065],\n",
        "                 'Curitiba': [-25.430, -49.272], 'Campina Grande': [-7.230, -35.881],'Pelotas': [-31.772, -52.343], \n",
        "                 'Recife': [-8.054, -34.881],'Campinas': [-22.905, -47.061], 'Vitoria': [-20.319, -40.338],\n",
        "                 'Paraibuna': [-23.386, -45.662], 'Brasilia': [-15.794, -47.883],'Itapecerica da Serra': [-23.717, -46.849],\n",
        "                 'Pico da Caledonia': [-22.360, -42.574],'Cuiaba': [-15.596, -56.097], 'Coari': [-4.085, -63.141],\n",
        "                 'Sena Madureira': [-9.066, -68.657], 'Sao Luis': [-2.53, -44.303],'Guanabara': [-22.883, -43.104], \n",
        "                 'Florianopolis': [-27.597, -48.549],'Pacatuba': [-3.984, -38.62], 'Vitória da Conquista': [-14.866, -40.839],\n",
        "                 'Mantiqueira': [-22.468, -45.003], 'Vila dos Remidos': [-3.845, -32.411],'Guarulhos': [-23.463, -46.533], \n",
        "                 'Sao Jose do Xingu': [-10.804, -52.744],'Bauru': [-22.315, -49.061], 'Altamira': [-3.203, -52.206],\n",
        "                 'Guaratingueta AB': [-22.816, -45.193], 'Caetite': [-14.069, -42.475],'Cruzeiro do Sul': [-7.631, -72.67], \n",
        "                 'Tangara de Serra': [-14.619, -57.486],'Formoso do Aragala': [-11.802, -49.528], 'Carajas': [-6.108, -50.304],\n",
        "                 'Suzano': [-23.543, -46.311], 'Ribeirao Preto': [-21.178, -47.81],'Belelm': [-1.456, -48.504], \n",
        "                 'Cubatao': [-23.895, -46.425],'Rio Branco': [-9.971, -67.811], 'Belem': [-1.456, -48.504],\n",
        "                 'Para': [-1.456, -48.504], 'Macaé': [-22.371, -41.787],'Uberaba': [-19.748, -47.932], \n",
        "                 'Sao Felix do Araguaia': [-11.617, -50.669],'Manacapuru': [-3.300, -60.620], 'Natal': [-5.795, -35.209],\n",
        "                 'Senador Jose Porfírio': [-2.591, -51.954], 'Manaus': [-3.074, -60.005],'Atlantic Ocean': [3.578, -30.399]}\n",
        "  \n",
        "  if val in coordenadas.keys():\n",
        "    return coordenadas[val]\n",
        "  else: return np.nan\n",
        "\n",
        "\n",
        "def format_time(val):\n",
        "  neo_val = ''\n",
        "  for c in val:\n",
        "    if c.isdigit():\n",
        "      neo_val = neo_val + c\n",
        "  \n",
        "  val_format = int(neo_val) if val != '' else None\n",
        "  \n",
        "  return val_format\n",
        "\n",
        "def dia_ou_noite(df):\n",
        "  meses = {'January':1,'February':2,'March':3,'April':4,\n",
        "           'May':5,'June':6,'July':7,'August':8,'September':9,\n",
        "           'October':10,'November':11,'December':12}\n",
        "\n",
        "  mes_sum = [0,31,28,31,30,31,30,31,31,30,31,30]\n",
        "\n",
        "  df['nascer'] = None\n",
        "  df['por'] = None\n",
        "  \n",
        "  for i in range(len(df)):\n",
        "    ano = int(df.iloc[i]['date'].split(',')[1])\n",
        "    mes = int(meses[df.iloc[i]['date'].split(',')[0].split()[0]])\n",
        "    dia = int(df.iloc[i]['date'].split(',')[0].split()[1])\n",
        "\n",
        "    geolocator = Nominatim(user_agent=\"geoapiExercises\") \n",
        "    place = \"brazil\"\n",
        "    location = geolocator.geocode(place) \n",
        "    latitude = df.iloc[i]['coordenadas'][0] \n",
        "    longitude = df.iloc[i]['coordenadas'][1]\n",
        "    sun = Sun(latitude, longitude)\n",
        "    time_zone = datetime.date(ano, mes,dia) \n",
        "    sun_rise = sun.get_local_sunrise_time(time_zone) \n",
        "    sun_dusk = sun.get_local_sunset_time(time_zone) \n",
        "    \n",
        "    df.loc[i,'nascer'] = int(sun_rise.strftime(\"%H%M\"))\n",
        "    df.loc[i,'por'] = int(sun_dusk.strftime(\"%H%M\"))\n",
        "\n",
        "def format_date(val):\n",
        "  date_format = val.split(', ')[1]\n",
        "  return date_format[:3] + '0'\n",
        "\n",
        "def dia_ou_noite_bin(df):\n",
        "  df['dia_ou_noite'] = None\n",
        "  for i in range(len(df)):\n",
        "    if (df['dn'].iloc[i] >= df['nascer'].iloc[i] and df['dn'].iloc[i] <= df['por'].iloc[i]):\n",
        "      df.loc[i,'dia_ou_noite'] = 1\n",
        "    else: df.loc[i,'dia_ou_noite'] = 0"
      ],
      "metadata": {
        "id": "SzUuD42ZsLwf"
      },
      "execution_count": 223,
      "outputs": []
    },
    {
      "cell_type": "markdown",
      "source": [
        "## Iniciando formatação/Criação de colunas necessarias paraa visualização."
      ],
      "metadata": {
        "id": "0aEF-lIo8lJA"
      }
    },
    {
      "cell_type": "code",
      "source": [
        "used_data = plane_data[['date', 'time','location']]\n",
        "used_data.replace('?', np.nan,inplace = True)\n",
        "used_data.dropna(inplace = True)"
      ],
      "metadata": {
        "colab": {
          "base_uri": "https://localhost:8080/"
        },
        "id": "hCaGL002rrPn",
        "outputId": "74327d50-fd30-45d4-d447-697fc5604564"
      },
      "execution_count": 224,
      "outputs": [
        {
          "output_type": "stream",
          "name": "stderr",
          "text": [
            "/usr/local/lib/python3.7/dist-packages/pandas/core/frame.py:5244: SettingWithCopyWarning: \n",
            "A value is trying to be set on a copy of a slice from a DataFrame\n",
            "\n",
            "See the caveats in the documentation: https://pandas.pydata.org/pandas-docs/stable/user_guide/indexing.html#returning-a-view-versus-a-copy\n",
            "  method=method,\n",
            "/usr/local/lib/python3.7/dist-packages/pandas/util/_decorators.py:311: SettingWithCopyWarning: \n",
            "A value is trying to be set on a copy of a slice from a DataFrame\n",
            "\n",
            "See the caveats in the documentation: https://pandas.pydata.org/pandas-docs/stable/user_guide/indexing.html#returning-a-view-versus-a-copy\n",
            "  return func(*args, **kwargs)\n"
          ]
        }
      ]
    },
    {
      "cell_type": "code",
      "source": [
        "used_data['brazil'] = used_data['location'].apply(format_all_data)\n",
        "used_data = used_data[used_data['brazil'] == 1]\n",
        "used_data['cidade'] = used_data['location'].apply(create_city_name)\n",
        "used_data['decada'] = used_data['date'].apply(format_date)\n",
        "used_data['coordenadas'] = used_data['cidade'].apply(create_coordinates)\n",
        "used_data.reset_index(inplace=True)\n",
        "used_data.dropna(inplace = True)\n",
        "dia_ou_noite(used_data)\n",
        "used_data['dn'] = used_data['time'].apply(format_time)\n",
        "dia_ou_noite_bin(used_data)"
      ],
      "metadata": {
        "colab": {
          "base_uri": "https://localhost:8080/"
        },
        "id": "HrQeIOBmu97t",
        "outputId": "a849a2ce-40a6-4441-ad0b-d49ac794509a"
      },
      "execution_count": 225,
      "outputs": [
        {
          "output_type": "stream",
          "name": "stderr",
          "text": [
            "/usr/local/lib/python3.7/dist-packages/ipykernel_launcher.py:1: SettingWithCopyWarning: \n",
            "A value is trying to be set on a copy of a slice from a DataFrame.\n",
            "Try using .loc[row_indexer,col_indexer] = value instead\n",
            "\n",
            "See the caveats in the documentation: https://pandas.pydata.org/pandas-docs/stable/user_guide/indexing.html#returning-a-view-versus-a-copy\n",
            "  \"\"\"Entry point for launching an IPython kernel.\n"
          ]
        }
      ]
    },
    {
      "cell_type": "code",
      "source": [
        "used_data.head()"
      ],
      "metadata": {
        "colab": {
          "base_uri": "https://localhost:8080/",
          "height": 206
        },
        "id": "WPkFsezPSkj6",
        "outputId": "faec7cf1-d204-400a-f4e9-441a510a6b09"
      },
      "execution_count": 226,
      "outputs": [
        {
          "output_type": "execute_result",
          "data": {
            "text/plain": [
              "   index                date   time                          location  brazil  \\\n",
              "0    341   December 03, 1928  08:00        Near Rio de Janeiro,Brazil       1   \n",
              "1   1015        May 22, 1938   1340                 Sao Paulo, Brazil       1   \n",
              "2   1131     August 13, 1939   1635            Rio de Janerio, Brazil       1   \n",
              "3   1203    January 15, 1941   1205  Off  Fernando de Noronha, Brazil       1   \n",
              "4   1303  September 28, 1942    900            Near Sao Paulo, Brazil       1   \n",
              "\n",
              "                cidade decada         coordenadas nascer   por    dn  \\\n",
              "0       Rio de Janeiro   1920   [-22.908, -43.18]    759  2127   800   \n",
              "1            Sao Paulo   1930  [-23.547, -46.633]    937  2030  1340   \n",
              "2       Rio de Janeiro   1930   [-22.908, -43.18]    919  2036  1635   \n",
              "3  Fernando de Noronha   1940   [-3.823, -32.065]    808  2027  1205   \n",
              "4            Sao Paulo   1940  [-23.547, -46.633]    850  2104   900   \n",
              "\n",
              "  dia_ou_noite  \n",
              "0            1  \n",
              "1            1  \n",
              "2            1  \n",
              "3            1  \n",
              "4            1  "
            ],
            "text/html": [
              "\n",
              "  <div id=\"df-6564ad8b-3b0a-4c06-8d05-69012822b2b8\">\n",
              "    <div class=\"colab-df-container\">\n",
              "      <div>\n",
              "<style scoped>\n",
              "    .dataframe tbody tr th:only-of-type {\n",
              "        vertical-align: middle;\n",
              "    }\n",
              "\n",
              "    .dataframe tbody tr th {\n",
              "        vertical-align: top;\n",
              "    }\n",
              "\n",
              "    .dataframe thead th {\n",
              "        text-align: right;\n",
              "    }\n",
              "</style>\n",
              "<table border=\"1\" class=\"dataframe\">\n",
              "  <thead>\n",
              "    <tr style=\"text-align: right;\">\n",
              "      <th></th>\n",
              "      <th>index</th>\n",
              "      <th>date</th>\n",
              "      <th>time</th>\n",
              "      <th>location</th>\n",
              "      <th>brazil</th>\n",
              "      <th>cidade</th>\n",
              "      <th>decada</th>\n",
              "      <th>coordenadas</th>\n",
              "      <th>nascer</th>\n",
              "      <th>por</th>\n",
              "      <th>dn</th>\n",
              "      <th>dia_ou_noite</th>\n",
              "    </tr>\n",
              "  </thead>\n",
              "  <tbody>\n",
              "    <tr>\n",
              "      <th>0</th>\n",
              "      <td>341</td>\n",
              "      <td>December 03, 1928</td>\n",
              "      <td>08:00</td>\n",
              "      <td>Near Rio de Janeiro,Brazil</td>\n",
              "      <td>1</td>\n",
              "      <td>Rio de Janeiro</td>\n",
              "      <td>1920</td>\n",
              "      <td>[-22.908, -43.18]</td>\n",
              "      <td>759</td>\n",
              "      <td>2127</td>\n",
              "      <td>800</td>\n",
              "      <td>1</td>\n",
              "    </tr>\n",
              "    <tr>\n",
              "      <th>1</th>\n",
              "      <td>1015</td>\n",
              "      <td>May 22, 1938</td>\n",
              "      <td>1340</td>\n",
              "      <td>Sao Paulo, Brazil</td>\n",
              "      <td>1</td>\n",
              "      <td>Sao Paulo</td>\n",
              "      <td>1930</td>\n",
              "      <td>[-23.547, -46.633]</td>\n",
              "      <td>937</td>\n",
              "      <td>2030</td>\n",
              "      <td>1340</td>\n",
              "      <td>1</td>\n",
              "    </tr>\n",
              "    <tr>\n",
              "      <th>2</th>\n",
              "      <td>1131</td>\n",
              "      <td>August 13, 1939</td>\n",
              "      <td>1635</td>\n",
              "      <td>Rio de Janerio, Brazil</td>\n",
              "      <td>1</td>\n",
              "      <td>Rio de Janeiro</td>\n",
              "      <td>1930</td>\n",
              "      <td>[-22.908, -43.18]</td>\n",
              "      <td>919</td>\n",
              "      <td>2036</td>\n",
              "      <td>1635</td>\n",
              "      <td>1</td>\n",
              "    </tr>\n",
              "    <tr>\n",
              "      <th>3</th>\n",
              "      <td>1203</td>\n",
              "      <td>January 15, 1941</td>\n",
              "      <td>1205</td>\n",
              "      <td>Off  Fernando de Noronha, Brazil</td>\n",
              "      <td>1</td>\n",
              "      <td>Fernando de Noronha</td>\n",
              "      <td>1940</td>\n",
              "      <td>[-3.823, -32.065]</td>\n",
              "      <td>808</td>\n",
              "      <td>2027</td>\n",
              "      <td>1205</td>\n",
              "      <td>1</td>\n",
              "    </tr>\n",
              "    <tr>\n",
              "      <th>4</th>\n",
              "      <td>1303</td>\n",
              "      <td>September 28, 1942</td>\n",
              "      <td>900</td>\n",
              "      <td>Near Sao Paulo, Brazil</td>\n",
              "      <td>1</td>\n",
              "      <td>Sao Paulo</td>\n",
              "      <td>1940</td>\n",
              "      <td>[-23.547, -46.633]</td>\n",
              "      <td>850</td>\n",
              "      <td>2104</td>\n",
              "      <td>900</td>\n",
              "      <td>1</td>\n",
              "    </tr>\n",
              "  </tbody>\n",
              "</table>\n",
              "</div>\n",
              "      <button class=\"colab-df-convert\" onclick=\"convertToInteractive('df-6564ad8b-3b0a-4c06-8d05-69012822b2b8')\"\n",
              "              title=\"Convert this dataframe to an interactive table.\"\n",
              "              style=\"display:none;\">\n",
              "        \n",
              "  <svg xmlns=\"http://www.w3.org/2000/svg\" height=\"24px\"viewBox=\"0 0 24 24\"\n",
              "       width=\"24px\">\n",
              "    <path d=\"M0 0h24v24H0V0z\" fill=\"none\"/>\n",
              "    <path d=\"M18.56 5.44l.94 2.06.94-2.06 2.06-.94-2.06-.94-.94-2.06-.94 2.06-2.06.94zm-11 1L8.5 8.5l.94-2.06 2.06-.94-2.06-.94L8.5 2.5l-.94 2.06-2.06.94zm10 10l.94 2.06.94-2.06 2.06-.94-2.06-.94-.94-2.06-.94 2.06-2.06.94z\"/><path d=\"M17.41 7.96l-1.37-1.37c-.4-.4-.92-.59-1.43-.59-.52 0-1.04.2-1.43.59L10.3 9.45l-7.72 7.72c-.78.78-.78 2.05 0 2.83L4 21.41c.39.39.9.59 1.41.59.51 0 1.02-.2 1.41-.59l7.78-7.78 2.81-2.81c.8-.78.8-2.07 0-2.86zM5.41 20L4 18.59l7.72-7.72 1.47 1.35L5.41 20z\"/>\n",
              "  </svg>\n",
              "      </button>\n",
              "      \n",
              "  <style>\n",
              "    .colab-df-container {\n",
              "      display:flex;\n",
              "      flex-wrap:wrap;\n",
              "      gap: 12px;\n",
              "    }\n",
              "\n",
              "    .colab-df-convert {\n",
              "      background-color: #E8F0FE;\n",
              "      border: none;\n",
              "      border-radius: 50%;\n",
              "      cursor: pointer;\n",
              "      display: none;\n",
              "      fill: #1967D2;\n",
              "      height: 32px;\n",
              "      padding: 0 0 0 0;\n",
              "      width: 32px;\n",
              "    }\n",
              "\n",
              "    .colab-df-convert:hover {\n",
              "      background-color: #E2EBFA;\n",
              "      box-shadow: 0px 1px 2px rgba(60, 64, 67, 0.3), 0px 1px 3px 1px rgba(60, 64, 67, 0.15);\n",
              "      fill: #174EA6;\n",
              "    }\n",
              "\n",
              "    [theme=dark] .colab-df-convert {\n",
              "      background-color: #3B4455;\n",
              "      fill: #D2E3FC;\n",
              "    }\n",
              "\n",
              "    [theme=dark] .colab-df-convert:hover {\n",
              "      background-color: #434B5C;\n",
              "      box-shadow: 0px 1px 3px 1px rgba(0, 0, 0, 0.15);\n",
              "      filter: drop-shadow(0px 1px 2px rgba(0, 0, 0, 0.3));\n",
              "      fill: #FFFFFF;\n",
              "    }\n",
              "  </style>\n",
              "\n",
              "      <script>\n",
              "        const buttonEl =\n",
              "          document.querySelector('#df-6564ad8b-3b0a-4c06-8d05-69012822b2b8 button.colab-df-convert');\n",
              "        buttonEl.style.display =\n",
              "          google.colab.kernel.accessAllowed ? 'block' : 'none';\n",
              "\n",
              "        async function convertToInteractive(key) {\n",
              "          const element = document.querySelector('#df-6564ad8b-3b0a-4c06-8d05-69012822b2b8');\n",
              "          const dataTable =\n",
              "            await google.colab.kernel.invokeFunction('convertToInteractive',\n",
              "                                                     [key], {});\n",
              "          if (!dataTable) return;\n",
              "\n",
              "          const docLinkHtml = 'Like what you see? Visit the ' +\n",
              "            '<a target=\"_blank\" href=https://colab.research.google.com/notebooks/data_table.ipynb>data table notebook</a>'\n",
              "            + ' to learn more about interactive tables.';\n",
              "          element.innerHTML = '';\n",
              "          dataTable['output_type'] = 'display_data';\n",
              "          await google.colab.output.renderOutput(dataTable, element);\n",
              "          const docLink = document.createElement('div');\n",
              "          docLink.innerHTML = docLinkHtml;\n",
              "          element.appendChild(docLink);\n",
              "        }\n",
              "      </script>\n",
              "    </div>\n",
              "  </div>\n",
              "  "
            ]
          },
          "metadata": {},
          "execution_count": 226
        }
      ]
    },
    {
      "cell_type": "code",
      "source": [
        "dia = used_data[used_data['dia_ou_noite'] == 1]\n",
        "noite = used_data[used_data['dia_ou_noite'] == 0]"
      ],
      "metadata": {
        "id": "3T9y8Zrb1OXv"
      },
      "execution_count": 227,
      "outputs": []
    },
    {
      "cell_type": "markdown",
      "source": [
        "## Preparando visualização."
      ],
      "metadata": {
        "id": "cnFIKmAR7BzF"
      }
    },
    {
      "cell_type": "code",
      "source": [
        "dia_list = list(dia.groupby('decada').count()['dn'])\n",
        "noite_list =  [0,0] + list(noite.groupby('decada').count()['dn']) + [0]"
      ],
      "metadata": {
        "id": "4Vtko2jH3Mns"
      },
      "execution_count": 228,
      "outputs": []
    },
    {
      "cell_type": "code",
      "source": [
        "dia_list = list(dia.groupby('decada').count()['dia_ou_noite'])\n",
        "noite_list = [0,0] + list(noite.groupby('decada').count()['dia_ou_noite']) + [0]\n",
        "\n",
        "fig = plt.figure(figsize=(16,12))\n",
        "plt.plot(dia['decada'].unique(), dia_list, label = 'dia', color = 'cornflowerblue')\n",
        "plt.plot(dia['decada'].unique(), noite_list, label = 'noite', color = 'rebeccapurple')\n",
        "\n",
        "plt.legend()\n",
        "\n",
        "plt.ylabel(\"Quantidade de acidentes\", fontdict={\"fontsize\": \"16\", \"fontweight\" : \"6\"})\n",
        "plt.xlabel(\"Décadas\", fontdict={\"fontsize\": \"16\", \"fontweight\" : \"6\"})\n",
        "plt.title(\"A falta de luz natural é fator determinante para um maior número de acidentes aéreos no Brasil?\", fontdict={\"fontsize\": \"20\", \"fontweight\" : \"6\"})\n",
        "plt.grid(axis='y', linewidth=0.3)"
      ],
      "metadata": {
        "colab": {
          "base_uri": "https://localhost:8080/",
          "height": 741
        },
        "id": "iGY8TBbGzwV2",
        "outputId": "1f0343d0-db1b-4898-e70c-e3c4cb74e524"
      },
      "execution_count": 232,
      "outputs": [
        {
          "output_type": "display_data",
          "data": {
            "text/plain": [
              "<Figure size 1152x864 with 1 Axes>"
            ],
            "image/png": "[encoded data removed]"
          },
          "metadata": {
            "needs_background": "light"
          }
        }
      ]
    },
    {
      "cell_type": "code",
      "source": [
        ""
      ],
      "metadata": {
        "id": "xmE549P1-UE3"
      },
      "execution_count": null,
      "outputs": []
    }
  ]
}